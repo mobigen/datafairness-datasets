{
 "cells": [
  {
   "cell_type": "markdown",
   "metadata": {
    "ExecuteTime": {
     "end_time": "2020-11-26T10:39:19.360024Z",
     "start_time": "2020-11-26T10:39:19.356026Z"
    }
   },
   "source": [
    "### Reference : https://github.com/mobigen/datafairness-mitigate"
   ]
  },
  {
   "cell_type": "code",
   "execution_count": 1,
   "metadata": {
    "ExecuteTime": {
     "end_time": "2020-11-26T10:05:05.593941Z",
     "start_time": "2020-11-26T10:05:04.124397Z"
    }
   },
   "outputs": [
    {
     "name": "stdout",
     "output_type": "stream",
     "text": [
      "data/raw/adult/adult.data\n",
      "data/raw/adult/adult.names\n",
      "data/raw/adult/adult.test\n"
     ]
    }
   ],
   "source": [
    "# coding: utf-8\n",
    "\n",
    "# Import Packages\n",
    "\n",
    "from utils import datasets\n",
    "\n",
    "import pandas as pd\n",
    "\n",
    "import matplotlib.pyplot as plt\n",
    "import seaborn as sns\n",
    "sns.set_style(\"whitegrid\")"
   ]
  },
  {
   "cell_type": "markdown",
   "metadata": {},
   "source": [
    "#### Data loading and preprocessing"
   ]
  },
  {
   "cell_type": "code",
   "execution_count": 2,
   "metadata": {
    "ExecuteTime": {
     "end_time": "2020-11-26T10:05:05.886832Z",
     "start_time": "2020-11-26T10:05:05.595925Z"
    }
   },
   "outputs": [
    {
     "name": "stdout",
     "output_type": "stream",
     "text": [
      "Missing Data: 0 rows removed.\n"
     ]
    }
   ],
   "source": [
    "# Set Columns and Protected Atrributes\n",
    "# 18 Features including 2 Protected Attributes and 1 Label\n",
    "protected_attribute_names = ['sex', 'race']\n",
    "privileged_classes = [['Male'], ['White']]\n",
    "label_name = 'income-per-year'\n",
    "one_hot_features = ['Age (decade)', 'Education Years']\n",
    "\n",
    "# Load Test Dataset & Preprocess\n",
    "df = datasets.get_adults_df()\n",
    "df = datasets.preprocess_df(df,\n",
    "                            protected_attribute_names, privileged_classes,\n",
    "                            label_name, ['>50K', '>50K.'],\n",
    "                            one_hot_column_names=one_hot_features)"
   ]
  },
  {
   "cell_type": "code",
   "execution_count": 3,
   "metadata": {
    "ExecuteTime": {
     "end_time": "2020-11-26T10:05:05.910826Z",
     "start_time": "2020-11-26T10:05:05.888831Z"
    }
   },
   "outputs": [
    {
     "data": {
      "text/html": [
       "<div>\n",
       "<style scoped>\n",
       "    .dataframe tbody tr th:only-of-type {\n",
       "        vertical-align: middle;\n",
       "    }\n",
       "\n",
       "    .dataframe tbody tr th {\n",
       "        vertical-align: top;\n",
       "    }\n",
       "\n",
       "    .dataframe thead th {\n",
       "        text-align: right;\n",
       "    }\n",
       "</style>\n",
       "<table border=\"1\" class=\"dataframe\">\n",
       "  <thead>\n",
       "    <tr style=\"text-align: right;\">\n",
       "      <th></th>\n",
       "      <th>race</th>\n",
       "      <th>sex</th>\n",
       "      <th>income-per-year</th>\n",
       "      <th>Age (decade)=10</th>\n",
       "      <th>Age (decade)=20</th>\n",
       "      <th>Age (decade)=30</th>\n",
       "      <th>Age (decade)=40</th>\n",
       "      <th>Age (decade)=50</th>\n",
       "      <th>Age (decade)=60</th>\n",
       "      <th>Age (decade)=&gt;=70</th>\n",
       "      <th>Education Years=6</th>\n",
       "      <th>Education Years=7</th>\n",
       "      <th>Education Years=8</th>\n",
       "      <th>Education Years=9</th>\n",
       "      <th>Education Years=10</th>\n",
       "      <th>Education Years=11</th>\n",
       "      <th>Education Years=12</th>\n",
       "      <th>Education Years=&lt;6</th>\n",
       "      <th>Education Years=&gt;12</th>\n",
       "    </tr>\n",
       "  </thead>\n",
       "  <tbody>\n",
       "    <tr>\n",
       "      <th>30178</th>\n",
       "      <td>1.0</td>\n",
       "      <td>1.0</td>\n",
       "      <td>0</td>\n",
       "      <td>0</td>\n",
       "      <td>0</td>\n",
       "      <td>0</td>\n",
       "      <td>0</td>\n",
       "      <td>0</td>\n",
       "      <td>1</td>\n",
       "      <td>0</td>\n",
       "      <td>0</td>\n",
       "      <td>0</td>\n",
       "      <td>0</td>\n",
       "      <td>1</td>\n",
       "      <td>0</td>\n",
       "      <td>0</td>\n",
       "      <td>0</td>\n",
       "      <td>0</td>\n",
       "      <td>0</td>\n",
       "    </tr>\n",
       "    <tr>\n",
       "      <th>16263</th>\n",
       "      <td>1.0</td>\n",
       "      <td>1.0</td>\n",
       "      <td>0</td>\n",
       "      <td>0</td>\n",
       "      <td>0</td>\n",
       "      <td>0</td>\n",
       "      <td>1</td>\n",
       "      <td>0</td>\n",
       "      <td>0</td>\n",
       "      <td>0</td>\n",
       "      <td>0</td>\n",
       "      <td>0</td>\n",
       "      <td>0</td>\n",
       "      <td>1</td>\n",
       "      <td>0</td>\n",
       "      <td>0</td>\n",
       "      <td>0</td>\n",
       "      <td>0</td>\n",
       "      <td>0</td>\n",
       "    </tr>\n",
       "    <tr>\n",
       "      <th>17719</th>\n",
       "      <td>1.0</td>\n",
       "      <td>1.0</td>\n",
       "      <td>0</td>\n",
       "      <td>0</td>\n",
       "      <td>1</td>\n",
       "      <td>0</td>\n",
       "      <td>0</td>\n",
       "      <td>0</td>\n",
       "      <td>0</td>\n",
       "      <td>0</td>\n",
       "      <td>0</td>\n",
       "      <td>0</td>\n",
       "      <td>0</td>\n",
       "      <td>1</td>\n",
       "      <td>0</td>\n",
       "      <td>0</td>\n",
       "      <td>0</td>\n",
       "      <td>0</td>\n",
       "      <td>0</td>\n",
       "    </tr>\n",
       "    <tr>\n",
       "      <th>36664</th>\n",
       "      <td>1.0</td>\n",
       "      <td>1.0</td>\n",
       "      <td>0</td>\n",
       "      <td>0</td>\n",
       "      <td>0</td>\n",
       "      <td>0</td>\n",
       "      <td>1</td>\n",
       "      <td>0</td>\n",
       "      <td>0</td>\n",
       "      <td>0</td>\n",
       "      <td>0</td>\n",
       "      <td>0</td>\n",
       "      <td>0</td>\n",
       "      <td>0</td>\n",
       "      <td>1</td>\n",
       "      <td>0</td>\n",
       "      <td>0</td>\n",
       "      <td>0</td>\n",
       "      <td>0</td>\n",
       "    </tr>\n",
       "    <tr>\n",
       "      <th>7291</th>\n",
       "      <td>1.0</td>\n",
       "      <td>1.0</td>\n",
       "      <td>0</td>\n",
       "      <td>0</td>\n",
       "      <td>1</td>\n",
       "      <td>0</td>\n",
       "      <td>0</td>\n",
       "      <td>0</td>\n",
       "      <td>0</td>\n",
       "      <td>0</td>\n",
       "      <td>0</td>\n",
       "      <td>0</td>\n",
       "      <td>0</td>\n",
       "      <td>1</td>\n",
       "      <td>0</td>\n",
       "      <td>0</td>\n",
       "      <td>0</td>\n",
       "      <td>0</td>\n",
       "      <td>0</td>\n",
       "    </tr>\n",
       "  </tbody>\n",
       "</table>\n",
       "</div>"
      ],
      "text/plain": [
       "       race  sex income-per-year  Age (decade)=10  Age (decade)=20  \\\n",
       "30178   1.0  1.0               0                0                0   \n",
       "16263   1.0  1.0               0                0                0   \n",
       "17719   1.0  1.0               0                0                1   \n",
       "36664   1.0  1.0               0                0                0   \n",
       "7291    1.0  1.0               0                0                1   \n",
       "\n",
       "       Age (decade)=30  Age (decade)=40  Age (decade)=50  Age (decade)=60  \\\n",
       "30178                0                0                0                1   \n",
       "16263                0                1                0                0   \n",
       "17719                0                0                0                0   \n",
       "36664                0                1                0                0   \n",
       "7291                 0                0                0                0   \n",
       "\n",
       "       Age (decade)=>=70  Education Years=6  Education Years=7  \\\n",
       "30178                  0                  0                  0   \n",
       "16263                  0                  0                  0   \n",
       "17719                  0                  0                  0   \n",
       "36664                  0                  0                  0   \n",
       "7291                   0                  0                  0   \n",
       "\n",
       "       Education Years=8  Education Years=9  Education Years=10  \\\n",
       "30178                  0                  1                   0   \n",
       "16263                  0                  1                   0   \n",
       "17719                  0                  1                   0   \n",
       "36664                  0                  0                   1   \n",
       "7291                   0                  1                   0   \n",
       "\n",
       "       Education Years=11  Education Years=12  Education Years=<6  \\\n",
       "30178                   0                   0                   0   \n",
       "16263                   0                   0                   0   \n",
       "17719                   0                   0                   0   \n",
       "36664                   0                   0                   0   \n",
       "7291                    0                   0                   0   \n",
       "\n",
       "       Education Years=>12  \n",
       "30178                    0  \n",
       "16263                    0  \n",
       "17719                    0  \n",
       "36664                    0  \n",
       "7291                     0  "
      ]
     },
     "execution_count": 3,
     "metadata": {},
     "output_type": "execute_result"
    }
   ],
   "source": [
    "df.sample(5)"
   ]
  },
  {
   "cell_type": "code",
   "execution_count": 4,
   "metadata": {
    "ExecuteTime": {
     "end_time": "2020-11-26T10:05:05.931817Z",
     "start_time": "2020-11-26T10:05:05.912824Z"
    }
   },
   "outputs": [
    {
     "name": "stdout",
     "output_type": "stream",
     "text": [
      "<class 'pandas.core.frame.DataFrame'>\n",
      "Int64Index: 48842 entries, 0 to 48841\n",
      "Data columns (total 19 columns):\n",
      " #   Column               Non-Null Count  Dtype  \n",
      "---  ------               --------------  -----  \n",
      " 0   race                 48842 non-null  float64\n",
      " 1   sex                  48842 non-null  float64\n",
      " 2   income-per-year      48842 non-null  object \n",
      " 3   Age (decade)=10      48842 non-null  uint8  \n",
      " 4   Age (decade)=20      48842 non-null  uint8  \n",
      " 5   Age (decade)=30      48842 non-null  uint8  \n",
      " 6   Age (decade)=40      48842 non-null  uint8  \n",
      " 7   Age (decade)=50      48842 non-null  uint8  \n",
      " 8   Age (decade)=60      48842 non-null  uint8  \n",
      " 9   Age (decade)=>=70    48842 non-null  uint8  \n",
      " 10  Education Years=6    48842 non-null  uint8  \n",
      " 11  Education Years=7    48842 non-null  uint8  \n",
      " 12  Education Years=8    48842 non-null  uint8  \n",
      " 13  Education Years=9    48842 non-null  uint8  \n",
      " 14  Education Years=10   48842 non-null  uint8  \n",
      " 15  Education Years=11   48842 non-null  uint8  \n",
      " 16  Education Years=12   48842 non-null  uint8  \n",
      " 17  Education Years=<6   48842 non-null  uint8  \n",
      " 18  Education Years=>12  48842 non-null  uint8  \n",
      "dtypes: float64(2), object(1), uint8(16)\n",
      "memory usage: 2.2+ MB\n"
     ]
    }
   ],
   "source": [
    "# There are no N/A values, and income-per-year needs type casting.\n",
    "df.info()"
   ]
  },
  {
   "cell_type": "code",
   "execution_count": 5,
   "metadata": {
    "ExecuteTime": {
     "end_time": "2020-11-26T10:05:05.939816Z",
     "start_time": "2020-11-26T10:05:05.933817Z"
    }
   },
   "outputs": [],
   "source": [
    "df['income-per-year'] = df['income-per-year'].astype(int)"
   ]
  },
  {
   "cell_type": "markdown",
   "metadata": {},
   "source": [
    "#### Basic statistic values"
   ]
  },
  {
   "cell_type": "code",
   "execution_count": 6,
   "metadata": {
    "ExecuteTime": {
     "end_time": "2020-11-26T10:05:06.020789Z",
     "start_time": "2020-11-26T10:05:05.941814Z"
    }
   },
   "outputs": [
    {
     "data": {
      "text/html": [
       "<div>\n",
       "<style scoped>\n",
       "    .dataframe tbody tr th:only-of-type {\n",
       "        vertical-align: middle;\n",
       "    }\n",
       "\n",
       "    .dataframe tbody tr th {\n",
       "        vertical-align: top;\n",
       "    }\n",
       "\n",
       "    .dataframe thead th {\n",
       "        text-align: right;\n",
       "    }\n",
       "</style>\n",
       "<table border=\"1\" class=\"dataframe\">\n",
       "  <thead>\n",
       "    <tr style=\"text-align: right;\">\n",
       "      <th></th>\n",
       "      <th>race</th>\n",
       "      <th>sex</th>\n",
       "      <th>income-per-year</th>\n",
       "      <th>Age (decade)=10</th>\n",
       "      <th>Age (decade)=20</th>\n",
       "      <th>Age (decade)=30</th>\n",
       "      <th>Age (decade)=40</th>\n",
       "      <th>Age (decade)=50</th>\n",
       "      <th>Age (decade)=60</th>\n",
       "      <th>Age (decade)=&gt;=70</th>\n",
       "      <th>Education Years=6</th>\n",
       "      <th>Education Years=7</th>\n",
       "      <th>Education Years=8</th>\n",
       "      <th>Education Years=9</th>\n",
       "      <th>Education Years=10</th>\n",
       "      <th>Education Years=11</th>\n",
       "      <th>Education Years=12</th>\n",
       "      <th>Education Years=&lt;6</th>\n",
       "      <th>Education Years=&gt;12</th>\n",
       "    </tr>\n",
       "  </thead>\n",
       "  <tbody>\n",
       "    <tr>\n",
       "      <th>count</th>\n",
       "      <td>48842.000000</td>\n",
       "      <td>48842.000000</td>\n",
       "      <td>48842.000000</td>\n",
       "      <td>48842.000000</td>\n",
       "      <td>48842.000000</td>\n",
       "      <td>48842.000000</td>\n",
       "      <td>48842.000000</td>\n",
       "      <td>48842.000000</td>\n",
       "      <td>48842.000000</td>\n",
       "      <td>48842.000000</td>\n",
       "      <td>48842.000000</td>\n",
       "      <td>48842.000000</td>\n",
       "      <td>48842.000000</td>\n",
       "      <td>48842.000000</td>\n",
       "      <td>48842.000000</td>\n",
       "      <td>48842.000000</td>\n",
       "      <td>48842.000000</td>\n",
       "      <td>48842.000000</td>\n",
       "      <td>48842.000000</td>\n",
       "    </tr>\n",
       "    <tr>\n",
       "      <th>mean</th>\n",
       "      <td>0.855043</td>\n",
       "      <td>0.668482</td>\n",
       "      <td>0.239282</td>\n",
       "      <td>0.051390</td>\n",
       "      <td>0.245793</td>\n",
       "      <td>0.264711</td>\n",
       "      <td>0.219565</td>\n",
       "      <td>0.135519</td>\n",
       "      <td>0.062528</td>\n",
       "      <td>0.020495</td>\n",
       "      <td>0.028439</td>\n",
       "      <td>0.037099</td>\n",
       "      <td>0.013452</td>\n",
       "      <td>0.323164</td>\n",
       "      <td>0.222718</td>\n",
       "      <td>0.042197</td>\n",
       "      <td>0.032779</td>\n",
       "      <td>0.052209</td>\n",
       "      <td>0.247942</td>\n",
       "    </tr>\n",
       "    <tr>\n",
       "      <th>std</th>\n",
       "      <td>0.352061</td>\n",
       "      <td>0.470764</td>\n",
       "      <td>0.426649</td>\n",
       "      <td>0.220795</td>\n",
       "      <td>0.430561</td>\n",
       "      <td>0.441184</td>\n",
       "      <td>0.413956</td>\n",
       "      <td>0.342280</td>\n",
       "      <td>0.242115</td>\n",
       "      <td>0.141686</td>\n",
       "      <td>0.166224</td>\n",
       "      <td>0.189007</td>\n",
       "      <td>0.115199</td>\n",
       "      <td>0.467690</td>\n",
       "      <td>0.416075</td>\n",
       "      <td>0.201041</td>\n",
       "      <td>0.178060</td>\n",
       "      <td>0.222451</td>\n",
       "      <td>0.431823</td>\n",
       "    </tr>\n",
       "    <tr>\n",
       "      <th>min</th>\n",
       "      <td>0.000000</td>\n",
       "      <td>0.000000</td>\n",
       "      <td>0.000000</td>\n",
       "      <td>0.000000</td>\n",
       "      <td>0.000000</td>\n",
       "      <td>0.000000</td>\n",
       "      <td>0.000000</td>\n",
       "      <td>0.000000</td>\n",
       "      <td>0.000000</td>\n",
       "      <td>0.000000</td>\n",
       "      <td>0.000000</td>\n",
       "      <td>0.000000</td>\n",
       "      <td>0.000000</td>\n",
       "      <td>0.000000</td>\n",
       "      <td>0.000000</td>\n",
       "      <td>0.000000</td>\n",
       "      <td>0.000000</td>\n",
       "      <td>0.000000</td>\n",
       "      <td>0.000000</td>\n",
       "    </tr>\n",
       "    <tr>\n",
       "      <th>25%</th>\n",
       "      <td>1.000000</td>\n",
       "      <td>0.000000</td>\n",
       "      <td>0.000000</td>\n",
       "      <td>0.000000</td>\n",
       "      <td>0.000000</td>\n",
       "      <td>0.000000</td>\n",
       "      <td>0.000000</td>\n",
       "      <td>0.000000</td>\n",
       "      <td>0.000000</td>\n",
       "      <td>0.000000</td>\n",
       "      <td>0.000000</td>\n",
       "      <td>0.000000</td>\n",
       "      <td>0.000000</td>\n",
       "      <td>0.000000</td>\n",
       "      <td>0.000000</td>\n",
       "      <td>0.000000</td>\n",
       "      <td>0.000000</td>\n",
       "      <td>0.000000</td>\n",
       "      <td>0.000000</td>\n",
       "    </tr>\n",
       "    <tr>\n",
       "      <th>50%</th>\n",
       "      <td>1.000000</td>\n",
       "      <td>1.000000</td>\n",
       "      <td>0.000000</td>\n",
       "      <td>0.000000</td>\n",
       "      <td>0.000000</td>\n",
       "      <td>0.000000</td>\n",
       "      <td>0.000000</td>\n",
       "      <td>0.000000</td>\n",
       "      <td>0.000000</td>\n",
       "      <td>0.000000</td>\n",
       "      <td>0.000000</td>\n",
       "      <td>0.000000</td>\n",
       "      <td>0.000000</td>\n",
       "      <td>0.000000</td>\n",
       "      <td>0.000000</td>\n",
       "      <td>0.000000</td>\n",
       "      <td>0.000000</td>\n",
       "      <td>0.000000</td>\n",
       "      <td>0.000000</td>\n",
       "    </tr>\n",
       "    <tr>\n",
       "      <th>75%</th>\n",
       "      <td>1.000000</td>\n",
       "      <td>1.000000</td>\n",
       "      <td>0.000000</td>\n",
       "      <td>0.000000</td>\n",
       "      <td>0.000000</td>\n",
       "      <td>1.000000</td>\n",
       "      <td>0.000000</td>\n",
       "      <td>0.000000</td>\n",
       "      <td>0.000000</td>\n",
       "      <td>0.000000</td>\n",
       "      <td>0.000000</td>\n",
       "      <td>0.000000</td>\n",
       "      <td>0.000000</td>\n",
       "      <td>1.000000</td>\n",
       "      <td>0.000000</td>\n",
       "      <td>0.000000</td>\n",
       "      <td>0.000000</td>\n",
       "      <td>0.000000</td>\n",
       "      <td>0.000000</td>\n",
       "    </tr>\n",
       "    <tr>\n",
       "      <th>max</th>\n",
       "      <td>1.000000</td>\n",
       "      <td>1.000000</td>\n",
       "      <td>1.000000</td>\n",
       "      <td>1.000000</td>\n",
       "      <td>1.000000</td>\n",
       "      <td>1.000000</td>\n",
       "      <td>1.000000</td>\n",
       "      <td>1.000000</td>\n",
       "      <td>1.000000</td>\n",
       "      <td>1.000000</td>\n",
       "      <td>1.000000</td>\n",
       "      <td>1.000000</td>\n",
       "      <td>1.000000</td>\n",
       "      <td>1.000000</td>\n",
       "      <td>1.000000</td>\n",
       "      <td>1.000000</td>\n",
       "      <td>1.000000</td>\n",
       "      <td>1.000000</td>\n",
       "      <td>1.000000</td>\n",
       "    </tr>\n",
       "  </tbody>\n",
       "</table>\n",
       "</div>"
      ],
      "text/plain": [
       "               race           sex  income-per-year  Age (decade)=10  \\\n",
       "count  48842.000000  48842.000000     48842.000000     48842.000000   \n",
       "mean       0.855043      0.668482         0.239282         0.051390   \n",
       "std        0.352061      0.470764         0.426649         0.220795   \n",
       "min        0.000000      0.000000         0.000000         0.000000   \n",
       "25%        1.000000      0.000000         0.000000         0.000000   \n",
       "50%        1.000000      1.000000         0.000000         0.000000   \n",
       "75%        1.000000      1.000000         0.000000         0.000000   \n",
       "max        1.000000      1.000000         1.000000         1.000000   \n",
       "\n",
       "       Age (decade)=20  Age (decade)=30  Age (decade)=40  Age (decade)=50  \\\n",
       "count     48842.000000     48842.000000     48842.000000     48842.000000   \n",
       "mean          0.245793         0.264711         0.219565         0.135519   \n",
       "std           0.430561         0.441184         0.413956         0.342280   \n",
       "min           0.000000         0.000000         0.000000         0.000000   \n",
       "25%           0.000000         0.000000         0.000000         0.000000   \n",
       "50%           0.000000         0.000000         0.000000         0.000000   \n",
       "75%           0.000000         1.000000         0.000000         0.000000   \n",
       "max           1.000000         1.000000         1.000000         1.000000   \n",
       "\n",
       "       Age (decade)=60  Age (decade)=>=70  Education Years=6  \\\n",
       "count     48842.000000       48842.000000       48842.000000   \n",
       "mean          0.062528           0.020495           0.028439   \n",
       "std           0.242115           0.141686           0.166224   \n",
       "min           0.000000           0.000000           0.000000   \n",
       "25%           0.000000           0.000000           0.000000   \n",
       "50%           0.000000           0.000000           0.000000   \n",
       "75%           0.000000           0.000000           0.000000   \n",
       "max           1.000000           1.000000           1.000000   \n",
       "\n",
       "       Education Years=7  Education Years=8  Education Years=9  \\\n",
       "count       48842.000000       48842.000000       48842.000000   \n",
       "mean            0.037099           0.013452           0.323164   \n",
       "std             0.189007           0.115199           0.467690   \n",
       "min             0.000000           0.000000           0.000000   \n",
       "25%             0.000000           0.000000           0.000000   \n",
       "50%             0.000000           0.000000           0.000000   \n",
       "75%             0.000000           0.000000           1.000000   \n",
       "max             1.000000           1.000000           1.000000   \n",
       "\n",
       "       Education Years=10  Education Years=11  Education Years=12  \\\n",
       "count        48842.000000        48842.000000        48842.000000   \n",
       "mean             0.222718            0.042197            0.032779   \n",
       "std              0.416075            0.201041            0.178060   \n",
       "min              0.000000            0.000000            0.000000   \n",
       "25%              0.000000            0.000000            0.000000   \n",
       "50%              0.000000            0.000000            0.000000   \n",
       "75%              0.000000            0.000000            0.000000   \n",
       "max              1.000000            1.000000            1.000000   \n",
       "\n",
       "       Education Years=<6  Education Years=>12  \n",
       "count        48842.000000         48842.000000  \n",
       "mean             0.052209             0.247942  \n",
       "std              0.222451             0.431823  \n",
       "min              0.000000             0.000000  \n",
       "25%              0.000000             0.000000  \n",
       "50%              0.000000             0.000000  \n",
       "75%              0.000000             0.000000  \n",
       "max              1.000000             1.000000  "
      ]
     },
     "execution_count": 6,
     "metadata": {},
     "output_type": "execute_result"
    }
   ],
   "source": [
    "df.describe()"
   ]
  },
  {
   "cell_type": "code",
   "execution_count": 7,
   "metadata": {
    "ExecuteTime": {
     "end_time": "2020-11-26T10:05:06.030785Z",
     "start_time": "2020-11-26T10:05:06.022788Z"
    }
   },
   "outputs": [
    {
     "data": {
      "text/plain": [
       "1.0    41762\n",
       "0.0     7080\n",
       "Name: race, dtype: int64"
      ]
     },
     "execution_count": 7,
     "metadata": {},
     "output_type": "execute_result"
    }
   ],
   "source": [
    "df['race'].value_counts()"
   ]
  },
  {
   "cell_type": "code",
   "execution_count": 8,
   "metadata": {
    "ExecuteTime": {
     "end_time": "2020-11-26T10:05:06.041782Z",
     "start_time": "2020-11-26T10:05:06.032785Z"
    }
   },
   "outputs": [
    {
     "data": {
      "text/plain": [
       "1.0    32650\n",
       "0.0    16192\n",
       "Name: sex, dtype: int64"
      ]
     },
     "execution_count": 8,
     "metadata": {},
     "output_type": "execute_result"
    }
   ],
   "source": [
    "df['sex'].value_counts()"
   ]
  },
  {
   "cell_type": "code",
   "execution_count": 9,
   "metadata": {
    "ExecuteTime": {
     "end_time": "2020-11-26T10:05:06.248716Z",
     "start_time": "2020-11-26T10:05:06.044781Z"
    }
   },
   "outputs": [
    {
     "data": {
      "image/png": "[encoded data removed]",
      "text/plain": [
       "<Figure size 576x432 with 1 Axes>"
      ]
     },
     "metadata": {},
     "output_type": "display_data"
    }
   ],
   "source": [
    "fig, ax = plt.subplots(1, 1, figsize=(8, 6))\n",
    "sns.countplot(x='race', data=pd.DataFrame(df.race.map(lambda x: ('White' if x == 1 else 'Other'))))\n",
    "plt.show()"
   ]
  },
  {
   "cell_type": "code",
   "execution_count": 10,
   "metadata": {
    "ExecuteTime": {
     "end_time": "2020-11-26T10:05:06.411663Z",
     "start_time": "2020-11-26T10:05:06.250715Z"
    }
   },
   "outputs": [
    {
     "data": {
      "image/png": "[encoded data removed]",
      "text/plain": [
       "<Figure size 576x432 with 1 Axes>"
      ]
     },
     "metadata": {},
     "output_type": "display_data"
    }
   ],
   "source": [
    "fig, ax = plt.subplots(1, 1, figsize=(8, 6))\n",
    "sns.countplot(x='sex', data=pd.DataFrame(df.sex.map(lambda x: ('Male' if x == 1 else 'Female'))))\n",
    "plt.show()"
   ]
  },
  {
   "cell_type": "markdown",
   "metadata": {},
   "source": [
    "#### Correlation between features"
   ]
  },
  {
   "cell_type": "code",
   "execution_count": 21,
   "metadata": {
    "ExecuteTime": {
     "end_time": "2020-11-26T10:27:44.844776Z",
     "start_time": "2020-11-26T10:27:44.281946Z"
    }
   },
   "outputs": [
    {
     "data": {
      "text/plain": [
       "<AxesSubplot:>"
      ]
     },
     "execution_count": 21,
     "metadata": {},
     "output_type": "execute_result"
    },
    {
     "data": {
      "image/png": "[encoded data removed]",
      "text/plain": [
       "<Figure size 720x576 with 2 Axes>"
      ]
     },
     "metadata": {},
     "output_type": "display_data"
    }
   ],
   "source": [
    "fig, ax = plt.subplots(1, 1, figsize=(10, 8))\n",
    "corr = df.corr()\n",
    "sns.heatmap(corr, linewidths=0.5, cmap='YlGnBu')"
   ]
  }
 ],
 "metadata": {
  "hide_input": false,
  "kernelspec": {
   "display_name": "Python 3",
   "language": "python",
   "name": "python3"
  },
  "language_info": {
   "codemirror_mode": {
    "name": "ipython",
    "version": 3
   },
   "file_extension": ".py",
   "mimetype": "text/x-python",
   "name": "python",
   "nbconvert_exporter": "python",
   "pygments_lexer": "ipython3",
   "version": "3.7.9"
  },
  "toc": {
   "base_numbering": 1,
   "nav_menu": {},
   "number_sections": true,
   "sideBar": true,
   "skip_h1_title": false,
   "title_cell": "Table of Contents",
   "title_sidebar": "Contents",
   "toc_cell": false,
   "toc_position": {},
   "toc_section_display": true,
   "toc_window_display": false
  },
  "varInspector": {
   "cols": {
    "lenName": 16,
    "lenType": 16,
    "lenVar": 40
   },
   "kernels_config": {
    "python": {
     "delete_cmd_postfix": "",
     "delete_cmd_prefix": "del ",
     "library": "var_list.py",
     "varRefreshCmd": "print(var_dic_list())"
    },
    "r": {
     "delete_cmd_postfix": ") ",
     "delete_cmd_prefix": "rm(",
     "library": "var_list.r",
     "varRefreshCmd": "cat(var_dic_list()) "
    }
   },
   "types_to_exclude": [
    "module",
    "function",
    "builtin_function_or_method",
    "instance",
    "_Feature"
   ],
   "window_display": false
  }
 },
 "nbformat": 4,
 "nbformat_minor": 4
}
